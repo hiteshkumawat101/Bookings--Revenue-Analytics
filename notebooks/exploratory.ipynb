{
 "cells": [
  {
   "cell_type": "markdown",
   "id": "75b2c332",
   "metadata": {},
   "source": [
    "# Exploratory Analysis: Bookings & Revenue\n",
    "\n",
    "This notebook demonstrates loading `bookings.xlsx` and `revenue.xlsx`, computing historical analytics, simple Prophet forecasts, and basic recommendations. Change the paths below if your Excel files are located elsewhere."
   ]
  },
  {
   "cell_type": "code",
   "execution_count": 6,
   "id": "31c3c30e",
   "metadata": {},
   "outputs": [
    {
     "name": "stderr",
     "output_type": "stream",
     "text": [
      "c:\\Users\\dell7\\OneDrive\\Desktop\\Assignment\\env\\Lib\\site-packages\\tqdm\\auto.py:21: TqdmWarning: IProgress not found. Please update jupyter and ipywidgets. See https://ipywidgets.readthedocs.io/en/stable/user_install.html\n",
      "  from .autonotebook import tqdm as notebook_tqdm\n",
      "Importing plotly failed. Interactive plots will not work.\n",
      "Importing plotly failed. Interactive plots will not work.\n"
     ]
    },
    {
     "name": "stdout",
     "output_type": "stream",
     "text": [
      "Loaded 676 bookings and 500 revenue rows\n"
     ]
    }
   ],
   "source": [
    "import sys\n",
    "from pathlib import Path\n",
    "# Ensure project root is on sys.path so `import src` works when running this notebook from the notebooks folder\n",
    "project_root = Path('..').resolve()\n",
    "if str(project_root) not in sys.path:\n",
    "    sys.path.insert(0, str(project_root))\n",
    "\n",
    "import pandas as pd\n",
    "from src.analytics import (\n",
    "    load_data,\n",
    "    monthly_bookings_and_revenue,\n",
    "    monthly_revenue_summary,\n",
    "    utilization_metrics,\n",
    "    top_tenants,\n",
    "    top_revenue_products,\n",
    "    bookings_forecast,\n",
    "    revenue_forecast,\n",
    "    recommend_underutilized,\n",
    "    high_roi_products,\n",
    ")\n",
    "\n",
    "base = Path('..').resolve() / 'bookings.xlsx'\n",
    "revenue = Path('..').resolve() / 'revenue.xlsx'\n",
    "bookings, revenue = load_data(str(base), str(revenue))\n",
    "print('Loaded', len(bookings), 'bookings and', len(revenue), 'revenue rows')\n"
   ]
  },
  {
   "cell_type": "code",
   "execution_count": 10,
   "id": "201b12f9",
   "metadata": {},
   "outputs": [
    {
     "name": "stdout",
     "output_type": "stream",
     "text": [
      "Reloaded src.analytics; module version reloaded.\n"
     ]
    }
   ],
   "source": [
    "# Ensure we are using the latest local code for src.analytics (useful after edits)\n",
    "import importlib\n",
    "import src.analytics as _analytics\n",
    "importlib.reload(_analytics)\n",
    "# Re-import names into the notebook namespace\n",
    "from src.analytics import (\n",
    "    load_data,\n",
    "    monthly_bookings_and_revenue,\n",
    "    monthly_revenue_summary,\n",
    "    utilization_metrics,\n",
    "    top_tenants,\n",
    "    top_revenue_products,\n",
    "    bookings_forecast,\n",
    "    revenue_forecast,\n",
    "    recommend_underutilized,\n",
    "    high_roi_products,\n",
    ")\n",
    "print('Reloaded src.analytics; module version reloaded.')\n"
   ]
  },
  {
   "cell_type": "code",
   "execution_count": 11,
   "id": "aa3327b6",
   "metadata": {},
   "outputs": [
    {
     "name": "stdout",
     "output_type": "stream",
     "text": [
      "Revenue columns: ['charge_type', 'created_at', 'event_at', 'product_type', 'product_name', 'additional_data', 'enterprise_name', 'creator_id', 'user_name', 'price', 'calculated_price', 'calculated_tax', 'surcharge', 'property_name', 'property_timezone', 'refunded', 'status', 'is_deleted', 'product_deleted', 'session_processed', 'result_receipt_number', 'refund_csv_column', 'payment_reference_id']\n",
      "\n",
      "Revenue sample:\n",
      "  charge_type                     created_at                       event_at  product_type                                          product_name                                                                                                         additional_data enterprise_name                            creator_id        user_name    price  calculated_price  calculated_tax  surcharge          property_name    property_timezone  refunded    status  is_deleted  product_deleted  session_processed result_receipt_number       refund_csv_column                                                payment_reference_id\n",
      "0    Checkout  2024-01-17 18:12:22.453 +0530  2024-01-17 10:30:00.000 +0530  Meeting room  Meditation Full Day Booking Room Percentage Discount                                                                                                                     NaN    Castle Group  9461c5d0-130d-4e6a-bfa9-cecd3bb39966       John Smith   928.63            928.63            0.00       0.00   American Realty Inc.     America/New_York      True  Refunded       False            False               True                RE5902  Yes - Refunded #RE5902                                                                 NaN\n",
      "1    Checkout  2023-01-20 17:40:40.802 +0530  2023-01-22 19:30:00.000 +0530  Meeting room            Automation ility product meeting open page                                                                                                                     NaN             NaN  ee97bd55-05aa-4b5c-879d-92465d525d04   Brendan Taylor     5.25              5.00            0.25       0.00  Rolika Ility Property     America/New_York      True  Refunded       False             True               True                RE1317  Yes - Refunded #RE1317  cs_test_b1Ch32rtqNoI1ug0rbGfwzGNEVDkNNrmmjzFOmZgZoVtYtEKZDHP0T8gn8\n",
      "2    Checkout  2025-08-08 02:07:49.096 +0530  2025-08-11 21:30:00.000 +0530      Day Pass                          Showcase Day Experience Ohlo  {\"quantity\": 1, \"surchargePercentage\": 5, \"refundSettlementDate\": \"2025-08-08\", \"paymentSettlementDate\": \"2025-08-08\"}      High Folio  ee97bd55-05aa-4b5c-879d-92465d525d04   Brendan Taylor   110.00            100.00           10.00       5.50   AtLas Property Group  America/Los_Angeles      True  Refunded       False             True               True                RE1427  Yes - Refunded #RE1427                                                  19b320250807203749\n",
      "3    Checkout  2023-07-28 17:21:10.773 +0530                            NaN  Market place                                  Deep Urinal Cleaning                                                                                                                     NaN      High Folio  ee97bd55-05aa-4b5c-879d-92465d525d04   Brendan Taylor  1000.00           1000.00            0.00       0.00   American Realty Inc.     America/New_York     False      Paid       False            False               True                 H4152                     NaN                                                                 NaN\n",
      "4    Checkout  2025-01-15 14:28:58.845 +0530  2025-01-15 19:30:00.000 +0530      Day Pass                                            Day Pass 2                                      {\"quantity\": 1, \"surchargePercentage\": 5.0, \"paymentSettlementDate\": \"2025-01-16\"}      High Folio  09bf0aa7-b3b7-4f98-aa80-d4aaefdbb527  Bugraptors User    55.00             50.00            5.00       2.75   American Realty Inc.     America/New_York     False      Paid       False             True               True                 H9863                     NaN                                                  dc1120250115085858\n",
      "\n",
      "monthly_revenue_summary output sample:\n",
      "       month  total_revenue  avg_revenue\n",
      "0 2022-07-01         110.50    55.250000\n",
      "1 2022-08-01          10.50    10.500000\n",
      "2 2022-09-01         221.00    73.666667\n",
      "3 2022-10-01          32.55    10.850000\n",
      "4 2022-11-01          92.00    18.400000\n"
     ]
    },
    {
     "name": "stderr",
     "output_type": "stream",
     "text": [
      "C:\\Users\\dell7\\OneDrive\\Desktop\\Assignment\\src\\analytics.py:86: UserWarning: Converting to PeriodArray/Index representation will drop timezone information.\n",
      "  df['month'] = pd.to_datetime(date).dt.to_period('M').dt.to_timestamp()\n"
     ]
    }
   ],
   "source": [
    "# Diagnostic: inspect `revenue` DataFrame and run monthly_revenue_summary safely\n",
    "print('Revenue columns:', list(revenue.columns))\n",
    "print('\\nRevenue sample:')\n",
    "print(revenue.head().to_string())\n",
    "\n",
    "# Try calling the summary function and show result or error\n",
    "try:\n",
    "    revenue_monthly = monthly_revenue_summary(revenue)\n",
    "    print('\\nmonthly_revenue_summary output sample:')\n",
    "    print(revenue_monthly.head().to_string())\n",
    "except Exception as e:\n",
    "    print('\\nmonthly_revenue_summary raised:', type(e).__name__, e)\n",
    "    # Helpful suggestions\n",
    "    print('\\nSuggestions:')\n",
    "    print(' - Ensure revenue has a date column (like `date`, `created_at`, or `timestamp`).')\n",
    "    print(' - Ensure revenue has a price column (like `price`, `amount`, `revenue`, or `calculated_price`).')\n",
    "    print(' - If column names have leading/trailing spaces, try: revenue.columns = revenue.columns.str.strip()')\n"
   ]
  },
  {
   "cell_type": "code",
   "execution_count": 12,
   "id": "79948046",
   "metadata": {},
   "outputs": [
    {
     "data": {
      "text/html": [
       "<div>\n",
       "<style scoped>\n",
       "    .dataframe tbody tr th:only-of-type {\n",
       "        vertical-align: middle;\n",
       "    }\n",
       "\n",
       "    .dataframe tbody tr th {\n",
       "        vertical-align: top;\n",
       "    }\n",
       "\n",
       "    .dataframe thead th {\n",
       "        text-align: right;\n",
       "    }\n",
       "</style>\n",
       "<table border=\"1\" class=\"dataframe\">\n",
       "  <thead>\n",
       "    <tr style=\"text-align: right;\">\n",
       "      <th></th>\n",
       "      <th>month</th>\n",
       "      <th>bookings_count</th>\n",
       "      <th>avg_revenue</th>\n",
       "    </tr>\n",
       "  </thead>\n",
       "  <tbody>\n",
       "    <tr>\n",
       "      <th>0</th>\n",
       "      <td>2022-08-01</td>\n",
       "      <td>3</td>\n",
       "      <td>50.000000</td>\n",
       "    </tr>\n",
       "    <tr>\n",
       "      <th>1</th>\n",
       "      <td>2022-09-01</td>\n",
       "      <td>25</td>\n",
       "      <td>192.647059</td>\n",
       "    </tr>\n",
       "    <tr>\n",
       "      <th>2</th>\n",
       "      <td>2022-10-01</td>\n",
       "      <td>12</td>\n",
       "      <td>NaN</td>\n",
       "    </tr>\n",
       "    <tr>\n",
       "      <th>3</th>\n",
       "      <td>2022-11-01</td>\n",
       "      <td>29</td>\n",
       "      <td>46.428571</td>\n",
       "    </tr>\n",
       "    <tr>\n",
       "      <th>4</th>\n",
       "      <td>2022-12-01</td>\n",
       "      <td>18</td>\n",
       "      <td>87.500000</td>\n",
       "    </tr>\n",
       "  </tbody>\n",
       "</table>\n",
       "</div>"
      ],
      "text/plain": [
       "       month  bookings_count  avg_revenue\n",
       "0 2022-08-01               3    50.000000\n",
       "1 2022-09-01              25   192.647059\n",
       "2 2022-10-01              12          NaN\n",
       "3 2022-11-01              29    46.428571\n",
       "4 2022-12-01              18    87.500000"
      ]
     },
     "execution_count": 12,
     "metadata": {},
     "output_type": "execute_result"
    }
   ],
   "source": [
    "# Monthly bookings by room/property\n",
    "bookings_monthly = monthly_bookings_and_revenue(bookings)\n",
    "bookings_monthly.head()"
   ]
  },
  {
   "cell_type": "code",
   "execution_count": 13,
   "id": "04683473",
   "metadata": {},
   "outputs": [
    {
     "name": "stderr",
     "output_type": "stream",
     "text": [
      "C:\\Users\\dell7\\OneDrive\\Desktop\\Assignment\\src\\analytics.py:86: UserWarning: Converting to PeriodArray/Index representation will drop timezone information.\n",
      "  df['month'] = pd.to_datetime(date).dt.to_period('M').dt.to_timestamp()\n"
     ]
    },
    {
     "data": {
      "text/html": [
       "<div>\n",
       "<style scoped>\n",
       "    .dataframe tbody tr th:only-of-type {\n",
       "        vertical-align: middle;\n",
       "    }\n",
       "\n",
       "    .dataframe tbody tr th {\n",
       "        vertical-align: top;\n",
       "    }\n",
       "\n",
       "    .dataframe thead th {\n",
       "        text-align: right;\n",
       "    }\n",
       "</style>\n",
       "<table border=\"1\" class=\"dataframe\">\n",
       "  <thead>\n",
       "    <tr style=\"text-align: right;\">\n",
       "      <th></th>\n",
       "      <th>month</th>\n",
       "      <th>total_revenue</th>\n",
       "      <th>avg_revenue</th>\n",
       "    </tr>\n",
       "  </thead>\n",
       "  <tbody>\n",
       "    <tr>\n",
       "      <th>0</th>\n",
       "      <td>2022-07-01</td>\n",
       "      <td>110.50</td>\n",
       "      <td>55.250000</td>\n",
       "    </tr>\n",
       "    <tr>\n",
       "      <th>1</th>\n",
       "      <td>2022-08-01</td>\n",
       "      <td>10.50</td>\n",
       "      <td>10.500000</td>\n",
       "    </tr>\n",
       "    <tr>\n",
       "      <th>2</th>\n",
       "      <td>2022-09-01</td>\n",
       "      <td>221.00</td>\n",
       "      <td>73.666667</td>\n",
       "    </tr>\n",
       "    <tr>\n",
       "      <th>3</th>\n",
       "      <td>2022-10-01</td>\n",
       "      <td>32.55</td>\n",
       "      <td>10.850000</td>\n",
       "    </tr>\n",
       "    <tr>\n",
       "      <th>4</th>\n",
       "      <td>2022-11-01</td>\n",
       "      <td>92.00</td>\n",
       "      <td>18.400000</td>\n",
       "    </tr>\n",
       "  </tbody>\n",
       "</table>\n",
       "</div>"
      ],
      "text/plain": [
       "       month  total_revenue  avg_revenue\n",
       "0 2022-07-01         110.50    55.250000\n",
       "1 2022-08-01          10.50    10.500000\n",
       "2 2022-09-01         221.00    73.666667\n",
       "3 2022-10-01          32.55    10.850000\n",
       "4 2022-11-01          92.00    18.400000"
      ]
     },
     "execution_count": 13,
     "metadata": {},
     "output_type": "execute_result"
    }
   ],
   "source": [
    "# Monthly revenue summary\n",
    "revenue_monthly = monthly_revenue_summary(revenue)\n",
    "revenue_monthly.head()"
   ]
  },
  {
   "cell_type": "code",
   "execution_count": null,
   "id": "f6a3745c",
   "metadata": {},
   "outputs": [],
   "source": [
    "# Seaborn visualizations for monthly summaries\n",
    "import matplotlib.pyplot as plt\n",
    "import seaborn as sns\n",
    "\n",
    "sns.set(style='whitegrid')\n",
    "\n",
    "# Monthly bookings bar chart\n",
    "try:\n",
    "    bm = monthly_bookings_and_revenue(bookings)\n",
    "    fig, ax = plt.subplots(figsize=(10, 4))\n",
    "    sns.barplot(data=bm, x='month', y='bookings_count', ax=ax)\n",
    "    ax.set_title('Monthly Bookings')\n",
    "    plt.xticks(rotation=45)\n",
    "    plt.tight_layout()\n",
    "    display(fig)\n",
    "except Exception as e:\n",
    "    print('Could not plot monthly bookings:', e)\n",
    "\n",
    "# Monthly revenue line chart\n",
    "try:\n",
    "    rm = monthly_revenue_summary(revenue)\n",
    "    fig2, ax2 = plt.subplots(figsize=(10, 4))\n",
    "    sns.lineplot(data=rm, x='month', y='total_revenue', ax=ax2)\n",
    "    ax2.set_title('Monthly Revenue')\n",
    "    plt.xticks(rotation=45)\n",
    "    plt.tight_layout()\n",
    "    display(fig2)\n",
    "except Exception as e:\n",
    "    print('Could not plot monthly revenue:', e)\n"
   ]
  },
  {
   "cell_type": "code",
   "execution_count": 14,
   "id": "3952c4f6",
   "metadata": {},
   "outputs": [
    {
     "data": {
      "text/html": [
       "<div>\n",
       "<style scoped>\n",
       "    .dataframe tbody tr th:only-of-type {\n",
       "        vertical-align: middle;\n",
       "    }\n",
       "\n",
       "    .dataframe tbody tr th {\n",
       "        vertical-align: top;\n",
       "    }\n",
       "\n",
       "    .dataframe thead th {\n",
       "        text-align: right;\n",
       "    }\n",
       "</style>\n",
       "<table border=\"1\" class=\"dataframe\">\n",
       "  <thead>\n",
       "    <tr style=\"text-align: right;\">\n",
       "      <th></th>\n",
       "      <th>month</th>\n",
       "      <th>booked_minutes</th>\n",
       "      <th>available_minutes</th>\n",
       "      <th>utilization_pct</th>\n",
       "    </tr>\n",
       "  </thead>\n",
       "  <tbody>\n",
       "    <tr>\n",
       "      <th>0</th>\n",
       "      <td>2022-08-01</td>\n",
       "      <td>90.0</td>\n",
       "      <td>16740</td>\n",
       "      <td>0.537634</td>\n",
       "    </tr>\n",
       "    <tr>\n",
       "      <th>1</th>\n",
       "      <td>2022-09-01</td>\n",
       "      <td>840.0</td>\n",
       "      <td>16200</td>\n",
       "      <td>5.185185</td>\n",
       "    </tr>\n",
       "    <tr>\n",
       "      <th>2</th>\n",
       "      <td>2022-10-01</td>\n",
       "      <td>240.0</td>\n",
       "      <td>16740</td>\n",
       "      <td>1.433692</td>\n",
       "    </tr>\n",
       "    <tr>\n",
       "      <th>3</th>\n",
       "      <td>2022-11-01</td>\n",
       "      <td>180.0</td>\n",
       "      <td>16200</td>\n",
       "      <td>1.111111</td>\n",
       "    </tr>\n",
       "    <tr>\n",
       "      <th>4</th>\n",
       "      <td>2022-12-01</td>\n",
       "      <td>60.0</td>\n",
       "      <td>16740</td>\n",
       "      <td>0.358423</td>\n",
       "    </tr>\n",
       "  </tbody>\n",
       "</table>\n",
       "</div>"
      ],
      "text/plain": [
       "       month  booked_minutes  available_minutes  utilization_pct\n",
       "0 2022-08-01            90.0              16740         0.537634\n",
       "1 2022-09-01           840.0              16200         5.185185\n",
       "2 2022-10-01           240.0              16740         1.433692\n",
       "3 2022-11-01           180.0              16200         1.111111\n",
       "4 2022-12-01            60.0              16740         0.358423"
      ]
     },
     "execution_count": 14,
     "metadata": {},
     "output_type": "execute_result"
    }
   ],
   "source": [
    "# Utilization metrics (9am-6pm)\n",
    "util = utilization_metrics(bookings, available_start_hour=9, available_end_hour=18)\n",
    "util.head()"
   ]
  },
  {
   "cell_type": "code",
   "execution_count": 15,
   "id": "88c578d8",
   "metadata": {},
   "outputs": [
    {
     "name": "stdout",
     "output_type": "stream",
     "text": [
      "             enterprise_name  booking_count  total_revenue\n",
      "17                High Folio            451      32735.220\n",
      "9               Castle Group             38        661.375\n",
      "63                spaceandco             21       1062.500\n",
      "0        08112023_Enterprise             16          0.000\n",
      "13  Global Occupier Services             14       1849.700\n",
      "                                          product_name  product_type  \\\n",
      "126                               Waste Wood Recycling  Market place   \n",
      "62   High Touchpoint Disinfect after regular cleani...  Market place   \n",
      "2                          Affordable Multi-Faith Room  Meeting room   \n",
      "105                                        Room No 101   Floor space   \n",
      "13                                Automation prod test      Balances   \n",
      "\n",
      "     total_revenue  avg_revenue  count  \n",
      "126       27300.00  2100.000000     13  \n",
      "62         9240.00  1026.666667      9  \n",
      "2          6050.00   504.166667     12  \n",
      "105        5362.25   109.433673     49  \n",
      "13         4020.00   670.000000      6  \n"
     ]
    }
   ],
   "source": [
    "# Top tenants and products\n",
    "print(top_tenants(bookings).head())\n",
    "print(top_revenue_products(revenue).head())"
   ]
  },
  {
   "cell_type": "code",
   "execution_count": 16,
   "id": "d168a04e",
   "metadata": {},
   "outputs": [
    {
     "name": "stderr",
     "output_type": "stream",
     "text": [
      "16:16:26 - cmdstanpy - INFO - Chain [1] start processing\n",
      "16:16:36 - cmdstanpy - INFO - Chain [1] done processing\n",
      "16:16:36 - cmdstanpy - INFO - Chain [1] done processing\n",
      "c:\\Users\\dell7\\OneDrive\\Desktop\\Assignment\\env\\Lib\\site-packages\\prophet\\forecaster.py:1872: FutureWarning: 'M' is deprecated and will be removed in a future version, please use 'ME' instead.\n",
      "  dates = pd.date_range(\n",
      "c:\\Users\\dell7\\OneDrive\\Desktop\\Assignment\\env\\Lib\\site-packages\\prophet\\forecaster.py:1872: FutureWarning: 'M' is deprecated and will be removed in a future version, please use 'ME' instead.\n",
      "  dates = pd.date_range(\n"
     ]
    },
    {
     "data": {
      "text/plain": [
       "[('ds',\n",
       "  [Timestamp('2022-08-01 00:00:00'),\n",
       "   Timestamp('2022-09-01 00:00:00'),\n",
       "   Timestamp('2022-10-01 00:00:00'),\n",
       "   Timestamp('2022-11-01 00:00:00'),\n",
       "   Timestamp('2022-12-01 00:00:00'),\n",
       "   Timestamp('2023-01-01 00:00:00'),\n",
       "   Timestamp('2023-02-01 00:00:00'),\n",
       "   Timestamp('2023-03-01 00:00:00'),\n",
       "   Timestamp('2023-04-01 00:00:00'),\n",
       "   Timestamp('2023-05-01 00:00:00'),\n",
       "   Timestamp('2023-06-01 00:00:00'),\n",
       "   Timestamp('2023-07-01 00:00:00'),\n",
       "   Timestamp('2023-08-01 00:00:00'),\n",
       "   Timestamp('2023-09-01 00:00:00'),\n",
       "   Timestamp('2023-10-01 00:00:00'),\n",
       "   Timestamp('2023-11-01 00:00:00'),\n",
       "   Timestamp('2023-12-01 00:00:00'),\n",
       "   Timestamp('2024-01-01 00:00:00'),\n",
       "   Timestamp('2024-02-01 00:00:00'),\n",
       "   Timestamp('2024-03-01 00:00:00'),\n",
       "   Timestamp('2024-04-01 00:00:00'),\n",
       "   Timestamp('2024-05-01 00:00:00'),\n",
       "   Timestamp('2024-06-01 00:00:00'),\n",
       "   Timestamp('2024-07-01 00:00:00'),\n",
       "   Timestamp('2024-08-01 00:00:00'),\n",
       "   Timestamp('2024-09-01 00:00:00'),\n",
       "   Timestamp('2024-10-01 00:00:00'),\n",
       "   Timestamp('2024-11-01 00:00:00'),\n",
       "   Timestamp('2024-12-01 00:00:00'),\n",
       "   Timestamp('2025-01-01 00:00:00'),\n",
       "   Timestamp('2025-02-01 00:00:00'),\n",
       "   Timestamp('2025-03-01 00:00:00'),\n",
       "   Timestamp('2025-04-01 00:00:00'),\n",
       "   Timestamp('2025-05-01 00:00:00'),\n",
       "   Timestamp('2025-06-01 00:00:00'),\n",
       "   Timestamp('2025-08-01 00:00:00'),\n",
       "   Timestamp('2025-09-01 00:00:00'),\n",
       "   Timestamp('2025-09-30 00:00:00'),\n",
       "   Timestamp('2025-10-31 00:00:00'),\n",
       "   Timestamp('2025-11-30 00:00:00')]),\n",
       " ('yhat',\n",
       "  [14.920884440503581,\n",
       "   22.93130057876323,\n",
       "   12.2014693053247,\n",
       "   18.47932835581917,\n",
       "   10.214485429292488,\n",
       "   48.97073290831089,\n",
       "   47.19045159935041,\n",
       "   16.25713885966017,\n",
       "   10.396260686988466,\n",
       "   14.363204289119862,\n",
       "   12.113793702732156,\n",
       "   30.76610436918122,\n",
       "   12.217761630807807,\n",
       "   24.48905064343587,\n",
       "   -0.5813565382206214,\n",
       "   12.136881146193536,\n",
       "   1.5777619446985618,\n",
       "   46.95323845810297,\n",
       "   58.782595940450065,\n",
       "   34.284337175142866,\n",
       "   17.531083040732476,\n",
       "   18.638135310225643,\n",
       "   25.961775767390904,\n",
       "   -5.723803692402985,\n",
       "   4.1989390848748975,\n",
       "   3.327952563695689,\n",
       "   21.470082888171262,\n",
       "   15.466364928311508,\n",
       "   12.195728606078768,\n",
       "   38.043270451178174,\n",
       "   7.950621626671497,\n",
       "   23.273560716604514,\n",
       "   9.895607051266866,\n",
       "   11.881052905333473,\n",
       "   15.825247535542315,\n",
       "   1.6781240177129533,\n",
       "   5.308103282396624,\n",
       "   -26.54532615381234,\n",
       "   -0.3632041453437047,\n",
       "   -15.115549277614527])]"
      ]
     },
     "execution_count": 16,
     "metadata": {},
     "output_type": "execute_result"
    }
   ],
   "source": [
    "# Forecast bookings next 3 months\n",
    "fc_bookings = bookings_forecast(bookings, months=3)\n",
    "list(fc_bookings.items())[:2]  # show sample keys"
   ]
  },
  {
   "cell_type": "code",
   "execution_count": 17,
   "id": "5348234e",
   "metadata": {},
   "outputs": [
    {
     "name": "stderr",
     "output_type": "stream",
     "text": [
      "C:\\Users\\dell7\\OneDrive\\Desktop\\Assignment\\src\\analytics.py:233: UserWarning: Converting to PeriodArray/Index representation will drop timezone information.\n",
      "  df['month'] = pd.to_datetime(date).dt.to_period('M').dt.to_timestamp()\n",
      "16:16:42 - cmdstanpy - INFO - Chain [1] start processing\n",
      "16:16:43 - cmdstanpy - INFO - Chain [1] done processing\n",
      "16:16:43 - cmdstanpy - INFO - Chain [1] done processing\n",
      "c:\\Users\\dell7\\OneDrive\\Desktop\\Assignment\\env\\Lib\\site-packages\\prophet\\forecaster.py:1872: FutureWarning: 'M' is deprecated and will be removed in a future version, please use 'ME' instead.\n",
      "  dates = pd.date_range(\n",
      "c:\\Users\\dell7\\OneDrive\\Desktop\\Assignment\\env\\Lib\\site-packages\\prophet\\forecaster.py:1872: FutureWarning: 'M' is deprecated and will be removed in a future version, please use 'ME' instead.\n",
      "  dates = pd.date_range(\n"
     ]
    },
    {
     "data": {
      "text/plain": [
       "{'ds_sample': [Timestamp('2022-07-01 00:00:00'),\n",
       "  Timestamp('2022-08-01 00:00:00'),\n",
       "  Timestamp('2022-09-01 00:00:00'),\n",
       "  Timestamp('2022-10-01 00:00:00'),\n",
       "  Timestamp('2022-11-01 00:00:00')],\n",
       " 'yhat_sample': [3155.7051309699646,\n",
       "  4823.536123209258,\n",
       "  2570.8898496571264,\n",
       "  4047.12770527325,\n",
       "  1965.7119424058287]}"
      ]
     },
     "execution_count": 17,
     "metadata": {},
     "output_type": "execute_result"
    }
   ],
   "source": [
    "# Forecast revenue next 12 months\n",
    "fc_revenue = revenue_forecast(revenue, months=12)\n",
    "{ 'ds_sample': fc_revenue['ds'][:5], 'yhat_sample': fc_revenue['yhat'][:5] }"
   ]
  },
  {
   "cell_type": "code",
   "execution_count": 18,
   "id": "360f2419",
   "metadata": {},
   "outputs": [
    {
     "data": {
      "text/plain": [
       "(        month  booked_minutes  available_minutes  utilization_pct\n",
       " 14 2023-10-01             0.0              16740         0.000000\n",
       " 10 2023-06-01             0.0              16200         0.000000\n",
       " 16 2023-12-01             0.0              16740         0.000000\n",
       " 4  2022-12-01            60.0              16740         0.358423\n",
       " 28 2024-12-01            60.0              16740         0.358423,\n",
       "                                           product_name  product_type  \\\n",
       " 126                               Waste Wood Recycling  Market place   \n",
       " 81          Marketplace Recurring With Company Invoice  Market place   \n",
       " 66                                Ility test analytics     Analytics   \n",
       " 73       Indoor Environment Quality (IEQ) May 30, 2023  Market place   \n",
       " 62   High Touchpoint Disinfect after regular cleani...  Market place   \n",
       " \n",
       "      total_revenue  avg_rev_per_min  \n",
       " 126        27300.0      2100.000000  \n",
       " 81          1500.0      1500.000000  \n",
       " 66          1200.0      1200.000000  \n",
       " 73          1130.0      1130.000000  \n",
       " 62          9240.0      1026.666667  )"
      ]
     },
     "execution_count": 18,
     "metadata": {},
     "output_type": "execute_result"
    }
   ],
   "source": [
    "# Recommendations: underutilized rooms and high ROI products\n",
    "under = recommend_underutilized(util, threshold_pct=30)\n",
    "roi = high_roi_products(revenue)\n",
    "under.head(), roi.head()"
   ]
  },
  {
   "cell_type": "code",
   "execution_count": null,
   "id": "48ff7e35",
   "metadata": {},
   "outputs": [],
   "source": []
  }
 ],
 "metadata": {
  "kernelspec": {
   "display_name": "env",
   "language": "python",
   "name": "python3"
  },
  "language_info": {
   "codemirror_mode": {
    "name": "ipython",
    "version": 3
   },
   "file_extension": ".py",
   "mimetype": "text/x-python",
   "name": "python",
   "nbconvert_exporter": "python",
   "pygments_lexer": "ipython3",
   "version": "3.13.7"
  }
 },
 "nbformat": 4,
 "nbformat_minor": 5
}
